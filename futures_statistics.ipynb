{
 "cells": [
  {
   "cell_type": "markdown",
   "metadata": {},
   "source": [
    "# Futures Analytics\n",
    "\n",
    "Step 1: Get Data \n",
    "    - figure out api - could use yfinance\n",
    "\n",
    "Step 2: Organize Data\n",
    "    - clean it"
   ]
  },
  {
   "cell_type": "code",
   "execution_count": 2,
   "metadata": {},
   "outputs": [],
   "source": [
    "import numpy as np\n",
    "import pandas as pd\n",
    "import seaborn as sns\n",
    "import yfinance as yf \n"
   ]
  },
  {
   "cell_type": "code",
   "execution_count": 3,
   "metadata": {},
   "outputs": [
    {
     "name": "stdout",
     "output_type": "stream",
     "text": [
      "[*********************100%%**********************]  1 of 1 completed\n",
      "               Open     High      Low    Close  Adj Close   Volume\n",
      "Date                                                              \n",
      "2022-01-03  4771.00  4791.25  4747.50  4786.00    4786.00  1322362\n",
      "2022-01-04  4785.25  4808.25  4764.50  4784.25    4784.25  1392809\n",
      "2022-01-05  4783.50  4788.25  4689.50  4692.50    4692.50  1856376\n",
      "2022-01-06  4692.00  4715.75  4662.00  4687.50    4687.50  1862918\n",
      "2022-01-07  4695.00  4705.75  4653.75  4667.75    4667.75  1618440\n"
     ]
    }
   ],
   "source": [
    "# Define the futures contract symbol\n",
    "futures_symbol = \"ES=F\"\n",
    "\n",
    "# Use yfinance to download futures contract data\n",
    "futures_data = yf.download(futures_symbol, start=\"2022-01-01\", end=\"2023-12-31\")\n",
    "\n",
    "# Print the first few rows of data\n",
    "print(futures_data.head())"
   ]
  },
  {
   "cell_type": "code",
   "execution_count": null,
   "metadata": {},
   "outputs": [],
   "source": []
  }
 ],
 "metadata": {
  "kernelspec": {
   "display_name": "Python 3",
   "language": "python",
   "name": "python3"
  },
  "language_info": {
   "codemirror_mode": {
    "name": "ipython",
    "version": 3
   },
   "file_extension": ".py",
   "mimetype": "text/x-python",
   "name": "python",
   "nbconvert_exporter": "python",
   "pygments_lexer": "ipython3",
   "version": "3.12.0"
  }
 },
 "nbformat": 4,
 "nbformat_minor": 2
}
